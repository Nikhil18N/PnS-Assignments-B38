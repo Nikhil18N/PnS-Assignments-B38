{
  "nbformat": 4,
  "nbformat_minor": 0,
  "metadata": {
    "colab": {
      "provenance": [],
      "authorship_tag": "ABX9TyNlcOJ7QWS55VqOIdi5P4JW"
    },
    "kernelspec": {
      "name": "python3",
      "display_name": "Python 3"
    },
    "language_info": {
      "name": "python"
    }
  },
  "cells": [
    {
      "cell_type": "code",
      "execution_count": null,
      "metadata": {
        "colab": {
          "base_uri": "https://localhost:8080/"
        },
        "id": "lAdFpJhNuOVA",
        "outputId": "7a09a746-77c7-4e1b-adff-f8b7b534398a"
      },
      "outputs": [
        {
          "output_type": "stream",
          "name": "stdout",
          "text": [
            "Sample Mean: ₹27466.67\n",
            "Sample Standard Deviation: ₹3621.54\n",
            "95% Confidence Interval: (₹25461.12, ₹29472.21)\n",
            "Conclusion: The claimed average of ₹30,000 does not fall within the confidence interval. The actual average cost of living is significantly different.\n"
          ]
        }
      ],
      "source": [
        "import numpy as np\n",
        "import scipy.stats as stats\n",
        "\n",
        "# Data\n",
        "data = [25000, 31000, 20000, 28000, 29500, 32000, 21000, 30500, 27000, 28500, 30000, 23000, 31000, 26000, 29500]\n",
        "\n",
        "# 1. Compute sample mean and standard deviation\n",
        "sample_mean = sum(data) / len(data)\n",
        "sample_std = np.std(data)  # ddof=1 for sample standard deviation\n",
        "n = len(data)\n",
        "\n",
        "print(f\"Sample Mean: ₹{sample_mean:.2f}\")\n",
        "print(f\"Sample Standard Deviation: ₹{sample_std:.2f}\")\n",
        "\n",
        "# 2. Calculate the 95% confidence interval\n",
        "confidence_level = 0.95\n",
        "alpha = 1 - confidence_level\n",
        "t_critical = stats.t.ppf(1 - alpha/2, df=n-1)  # t critical value\n",
        "\n",
        "margin_of_error = t_critical * (sample_std / np.sqrt(n))\n",
        "ci_lower = sample_mean - margin_of_error\n",
        "ci_upper = sample_mean + margin_of_error\n",
        "\n",
        "print(f\"95% Confidence Interval: (₹{ci_lower:.2f}, ₹{ci_upper:.2f})\")\n",
        "\n",
        "# 3. Hypothesis assessment\n",
        "claimed_mean = 30000\n",
        "if ci_lower <= claimed_mean <= ci_upper:\n",
        "    print(\"Conclusion: The claimed average of ₹30,000 falls within the confidence interval. We do not have enough evidence to reject the claim.\")\n",
        "else:\n",
        "    print(\"Conclusion: The claimed average of ₹30,000 does not fall within the confidence interval. The actual average cost of living is significantly different.\")\n"
      ]
    }
  ]
}